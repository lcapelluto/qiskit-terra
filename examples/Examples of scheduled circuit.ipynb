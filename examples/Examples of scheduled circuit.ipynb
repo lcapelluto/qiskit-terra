{
 "cells": [
  {
   "cell_type": "markdown",
   "metadata": {},
   "source": [
    "# Examples of scheduled circuit  (circuit with duration)"
   ]
  },
  {
   "cell_type": "markdown",
   "metadata": {},
   "source": [
    "## Current status\n",
    "1. [x] Adding a Delay instruction for circuits\n",
    "2. [x] Two scheduling passes for implementing ALAP and ASAP by inserting Delays on the DAGCircuit.\n",
    "```\n",
    "from qiskit.transpiler.passes.scheduling import ASAPSchedule, ALAPSchedule\n",
    "dag_with_delays = ALAPSchedule(backend_properties).run(dag)\n",
    "```\n",
    "3. [x] A simple scheduled_circuit.draw() to visualize timed blocks on the qubits\n",
    "4. [x] Another scheduler that approximates the schedule by timesteps.\n",
    "5. [x] Assembly to Qobj.\n",
    "```\n",
    "For qobj instructions something like:\n",
    "{\"name\": \"delay\", \"qubits\": [i], \"params\": [length], \"duration\": length}  # \"duration\" may be optional\n",
    "{\"name\": \"cx\", \"qubits\": [i,j], \"duration\": 320}  # \"duration\" may be optional\n",
    "and\n",
    "{\"name\": \"timestep\", \"qubits\": [0,...,N-1], \"params\": [length], \"duration\": 0}  # \"duration\" may be optional\n",
    "{\"name\": \"barrier\", \"qubits\": [0,...,N-1], \"duration\": 0}  # \"duration\" may be optional\n",
    "the lengths would have to be relative to a dt parameter in the noise model \n",
    "```"
   ]
  },
  {
   "cell_type": "code",
   "execution_count": 1,
   "metadata": {},
   "outputs": [
    {
     "name": "stdout",
     "output_type": "stream",
     "text": [
      "dt=2.2222222222222221e-10\n"
     ]
    }
   ],
   "source": [
    "from qiskit import QuantumCircuit\n",
    "from qiskit.test.mock.backends import FakeParis\n",
    "backend = FakeParis()\n",
    "print(f\"dt={backend.configuration().dt}\")"
   ]
  },
  {
   "cell_type": "markdown",
   "metadata": {},
   "source": [
    "## Manual construction of T2 experiment"
   ]
  },
  {
   "cell_type": "code",
   "execution_count": 2,
   "metadata": {},
   "outputs": [
    {
     "data": {
      "text/html": [
       "<pre style=\"word-wrap: normal;white-space: pre;background: #fff0;line-height: 1.1;font-family: &quot;Courier New&quot;,Courier,monospace\">     ┌───┐┌──────────────┐┌───┐┌─┐\n",
       "q_0: ┤ H ├┤ DELAY(1e-06) ├┤ H ├┤M├\n",
       "     └───┘└──────────────┘└───┘└╥┘\n",
       "c_0: ═══════════════════════════╩═\n",
       "                                  </pre>"
      ],
      "text/plain": [
       "     ┌───┐┌──────────────┐┌───┐┌─┐\n",
       "q_0: ┤ H ├┤ DELAY(1e-06) ├┤ H ├┤M├\n",
       "     └───┘└──────────────┘└───┘└╥┘\n",
       "c_0: ═══════════════════════════╩═\n",
       "                                  "
      ]
     },
     "execution_count": 2,
     "metadata": {},
     "output_type": "execute_result"
    }
   ],
   "source": [
    "qc = QuantumCircuit(1, 1, name=\"t2_experiment\")\n",
    "qc.h(0)\n",
    "qc.delay(1000, 0, unit='ns')\n",
    "qc.h(0)\n",
    "qc.measure(0, 0)\n",
    "qc.draw()"
   ]
  },
  {
   "cell_type": "code",
   "execution_count": 3,
   "metadata": {
    "scrolled": true
   },
   "outputs": [
    {
     "name": "stdout",
     "output_type": "stream",
     "text": [
      "      |--------------------------------------------------------------------|\n",
      " q_0: | U2(0,pi)[160] | DELAY(4500)[4500] | U2(0,pi)[160] | MEASURE[19200] |\n",
      " q_1: |                        DELAY(24020)[24020]                         |\n",
      " q_2: |                        DELAY(24020)[24020]                         |\n",
      " q_3: |                        DELAY(24020)[24020]                         |\n",
      " q_4: |                        DELAY(24020)[24020]                         |\n",
      " q_5: |                        DELAY(24020)[24020]                         |\n",
      " q_6: |                        DELAY(24020)[24020]                         |\n",
      " q_7: |                        DELAY(24020)[24020]                         |\n",
      " q_8: |                        DELAY(24020)[24020]                         |\n",
      " q_9: |                        DELAY(24020)[24020]                         |\n",
      "q_10: |                        DELAY(24020)[24020]                         |\n",
      "q_11: |                        DELAY(24020)[24020]                         |\n",
      "q_12: |                        DELAY(24020)[24020]                         |\n",
      "q_13: |                        DELAY(24020)[24020]                         |\n",
      "q_14: |                        DELAY(24020)[24020]                         |\n",
      "q_15: |                        DELAY(24020)[24020]                         |\n",
      "q_16: |                        DELAY(24020)[24020]                         |\n",
      "q_17: |                        DELAY(24020)[24020]                         |\n",
      "q_18: |                        DELAY(24020)[24020]                         |\n",
      "q_19: |                        DELAY(24020)[24020]                         |\n",
      "q_20: |                        DELAY(24020)[24020]                         |\n",
      "q_21: |                        DELAY(24020)[24020]                         |\n",
      "q_22: |                        DELAY(24020)[24020]                         |\n",
      "q_23: |                        DELAY(24020)[24020]                         |\n",
      "q_24: |                        DELAY(24020)[24020]                         |\n",
      "q_25: |                        DELAY(24020)[24020]                         |\n",
      "q_26: |                        DELAY(24020)[24020]                         |\n",
      "      |--------------------------------------------------------------------|\n"
     ]
    }
   ],
   "source": [
    "# 1000 ns = 4500 dt in FakeParis backend\n",
    "print(qc.schedule(backend))"
   ]
  },
  {
   "cell_type": "markdown",
   "metadata": {},
   "source": [
    "## Schedule circuits with scheduling passes"
   ]
  },
  {
   "cell_type": "code",
   "execution_count": 4,
   "metadata": {},
   "outputs": [],
   "source": [
    "from qiskit import transpile\n",
    "from qiskit.converters import circuit_to_dag, dag_to_circuit\n",
    "from qiskit.transpiler.passes.scheduling.asap import ASAPSchedule\n",
    "from qiskit.transpiler.passes.scheduling.alap import ALAPSchedule"
   ]
  },
  {
   "cell_type": "code",
   "execution_count": 5,
   "metadata": {},
   "outputs": [
    {
     "data": {
      "text/html": [
       "<pre style=\"word-wrap: normal;white-space: pre;background: #fff0;line-height: 1.1;font-family: &quot;Courier New&quot;,Courier,monospace\">          ┌───┐           \n",
       "q_0: ─────┤ H ├────────■──\n",
       "     ┌────┴───┴─────┐┌─┴─┐\n",
       "q_1: ┤ DELAY(1e-06) ├┤ X ├\n",
       "     └──────────────┘└───┘</pre>"
      ],
      "text/plain": [
       "          ┌───┐           \n",
       "q_0: ─────┤ H ├────────■──\n",
       "     ┌────┴───┴─────┐┌─┴─┐\n",
       "q_1: ┤ DELAY(1e-06) ├┤ X ├\n",
       "     └──────────────┘└───┘"
      ]
     },
     "execution_count": 5,
     "metadata": {},
     "output_type": "execute_result"
    }
   ],
   "source": [
    "qc = QuantumCircuit(2, name=\"bell_with_delay\")\n",
    "qc.h(0)\n",
    "qc.delay(1000, 1, unit='ns')\n",
    "qc.cx(0,1)\n",
    "qc.draw()"
   ]
  },
  {
   "cell_type": "code",
   "execution_count": 33,
   "metadata": {},
   "outputs": [
    {
     "data": {
      "text/plain": [
       "     |-----------------------------------------------------|\n",
       "q_0: |  U2(0,pi)[160]  | BARRIER(0,1)[0] | DELAY(160)[160] |\n",
       "q_1: | DELAY(160)[160] | BARRIER(0,1)[0] |  U2(0,pi)[160]  |\n",
       "q_2: |                   DELAY(320)[320]                   |\n",
       "q_3: |                   DELAY(320)[320]                   |\n",
       "     |-----------------------------------------------------|"
      ]
     },
     "execution_count": 33,
     "metadata": {},
     "output_type": "execute_result"
    }
   ],
   "source": [
    "qc.schedule(backend).draw(qubits=[0,1,2,3])"
   ]
  },
  {
   "cell_type": "markdown",
   "metadata": {},
   "source": [
    "`qc.schedule(backend)` is defined as follows."
   ]
  },
  {
   "cell_type": "code",
   "execution_count": 7,
   "metadata": {},
   "outputs": [
    {
     "name": "stdout",
     "output_type": "stream",
     "text": [
      "      |---------------------------------------------------|\n",
      " q_0: | DELAY(4340)[4340] | U2(0,pi)[160] | CX(0,1)[1408] |\n",
      " q_1: |         DELAY(4500)[4500]         | CX(0,1)[1408] |\n",
      " q_2: |                 DELAY(5908)[5908]                 |\n",
      " q_3: |                 DELAY(5908)[5908]                 |\n",
      " q_4: |                 DELAY(5908)[5908]                 |\n",
      " q_5: |                 DELAY(5908)[5908]                 |\n",
      " q_6: |                 DELAY(5908)[5908]                 |\n",
      " q_7: |                 DELAY(5908)[5908]                 |\n",
      " q_8: |                 DELAY(5908)[5908]                 |\n",
      " q_9: |                 DELAY(5908)[5908]                 |\n",
      "q_10: |                 DELAY(5908)[5908]                 |\n",
      "q_11: |                 DELAY(5908)[5908]                 |\n",
      "q_12: |                 DELAY(5908)[5908]                 |\n",
      "q_13: |                 DELAY(5908)[5908]                 |\n",
      "q_14: |                 DELAY(5908)[5908]                 |\n",
      "q_15: |                 DELAY(5908)[5908]                 |\n",
      "q_16: |                 DELAY(5908)[5908]                 |\n",
      "q_17: |                 DELAY(5908)[5908]                 |\n",
      "q_18: |                 DELAY(5908)[5908]                 |\n",
      "q_19: |                 DELAY(5908)[5908]                 |\n",
      "q_20: |                 DELAY(5908)[5908]                 |\n",
      "q_21: |                 DELAY(5908)[5908]                 |\n",
      "q_22: |                 DELAY(5908)[5908]                 |\n",
      "q_23: |                 DELAY(5908)[5908]                 |\n",
      "q_24: |                 DELAY(5908)[5908]                 |\n",
      "q_25: |                 DELAY(5908)[5908]                 |\n",
      "q_26: |                 DELAY(5908)[5908]                 |\n",
      "      |---------------------------------------------------|\n"
     ]
    }
   ],
   "source": [
    "transpiled = transpile(qc, backend=backend, optimization_level=0, basis_gates=['u1', 'u2', 'u3', 'cx', 'delay'])\n",
    "dag = circuit_to_dag(transpiled)\n",
    "dag_with_delays = ALAPSchedule(backend).run(dag)\n",
    "scheduled = dag_to_circuit(dag_with_delays)\n",
    "print(scheduled)"
   ]
  },
  {
   "cell_type": "markdown",
   "metadata": {},
   "source": [
    "###  ASAP or ALAP Schedule"
   ]
  },
  {
   "cell_type": "code",
   "execution_count": 8,
   "metadata": {},
   "outputs": [
    {
     "data": {
      "text/html": [
       "<pre style=\"word-wrap: normal;white-space: pre;background: #fff0;line-height: 1.1;font-family: &quot;Courier New&quot;,Courier,monospace\">     ┌───┐\n",
       "q_0: ┤ H ├\n",
       "     ├───┤\n",
       "q_1: ┤ X ├\n",
       "     └───┘</pre>"
      ],
      "text/plain": [
       "     ┌───┐\n",
       "q_0: ┤ H ├\n",
       "     ├───┤\n",
       "q_1: ┤ X ├\n",
       "     └───┘"
      ]
     },
     "execution_count": 8,
     "metadata": {},
     "output_type": "execute_result"
    }
   ],
   "source": [
    "qc = QuantumCircuit(2, name=\"h2\")\n",
    "qc.h(0)\n",
    "qc.x(1)\n",
    "dag = circuit_to_dag(transpile(qc, backend=backend, optimization_level=0))\n",
    "qc.draw()"
   ]
  },
  {
   "cell_type": "code",
   "execution_count": 9,
   "metadata": {},
   "outputs": [
    {
     "name": "stdout",
     "output_type": "stream",
     "text": [
      "      |---------------------------------|\n",
      " q_0: | U2(0,pi)[160] | DELAY(160)[160] |\n",
      " q_1: |         U3(pi,0,pi)[320]        |\n",
      " q_2: |         DELAY(320)[320]         |\n",
      " q_3: |         DELAY(320)[320]         |\n",
      " q_4: |         DELAY(320)[320]         |\n",
      " q_5: |         DELAY(320)[320]         |\n",
      " q_6: |         DELAY(320)[320]         |\n",
      " q_7: |         DELAY(320)[320]         |\n",
      " q_8: |         DELAY(320)[320]         |\n",
      " q_9: |         DELAY(320)[320]         |\n",
      "q_10: |         DELAY(320)[320]         |\n",
      "q_11: |         DELAY(320)[320]         |\n",
      "q_12: |         DELAY(320)[320]         |\n",
      "q_13: |         DELAY(320)[320]         |\n",
      "q_14: |         DELAY(320)[320]         |\n",
      "q_15: |         DELAY(320)[320]         |\n",
      "q_16: |         DELAY(320)[320]         |\n",
      "q_17: |         DELAY(320)[320]         |\n",
      "q_18: |         DELAY(320)[320]         |\n",
      "q_19: |         DELAY(320)[320]         |\n",
      "q_20: |         DELAY(320)[320]         |\n",
      "q_21: |         DELAY(320)[320]         |\n",
      "q_22: |         DELAY(320)[320]         |\n",
      "q_23: |         DELAY(320)[320]         |\n",
      "q_24: |         DELAY(320)[320]         |\n",
      "q_25: |         DELAY(320)[320]         |\n",
      "q_26: |         DELAY(320)[320]         |\n",
      "      |---------------------------------|\n"
     ]
    }
   ],
   "source": [
    "#ASAP\n",
    "dag_with_delays = ASAPSchedule(backend).run(dag)\n",
    "scheduled = dag_to_circuit(dag_with_delays)\n",
    "print(scheduled)"
   ]
  },
  {
   "cell_type": "code",
   "execution_count": 10,
   "metadata": {},
   "outputs": [
    {
     "name": "stdout",
     "output_type": "stream",
     "text": [
      "      |---------------------------------|\n",
      " q_0: | DELAY(160)[160] | U2(0,pi)[160] |\n",
      " q_1: |         U3(pi,0,pi)[320]        |\n",
      " q_2: |         DELAY(320)[320]         |\n",
      " q_3: |         DELAY(320)[320]         |\n",
      " q_4: |         DELAY(320)[320]         |\n",
      " q_5: |         DELAY(320)[320]         |\n",
      " q_6: |         DELAY(320)[320]         |\n",
      " q_7: |         DELAY(320)[320]         |\n",
      " q_8: |         DELAY(320)[320]         |\n",
      " q_9: |         DELAY(320)[320]         |\n",
      "q_10: |         DELAY(320)[320]         |\n",
      "q_11: |         DELAY(320)[320]         |\n",
      "q_12: |         DELAY(320)[320]         |\n",
      "q_13: |         DELAY(320)[320]         |\n",
      "q_14: |         DELAY(320)[320]         |\n",
      "q_15: |         DELAY(320)[320]         |\n",
      "q_16: |         DELAY(320)[320]         |\n",
      "q_17: |         DELAY(320)[320]         |\n",
      "q_18: |         DELAY(320)[320]         |\n",
      "q_19: |         DELAY(320)[320]         |\n",
      "q_20: |         DELAY(320)[320]         |\n",
      "q_21: |         DELAY(320)[320]         |\n",
      "q_22: |         DELAY(320)[320]         |\n",
      "q_23: |         DELAY(320)[320]         |\n",
      "q_24: |         DELAY(320)[320]         |\n",
      "q_25: |         DELAY(320)[320]         |\n",
      "q_26: |         DELAY(320)[320]         |\n",
      "      |---------------------------------|\n"
     ]
    }
   ],
   "source": [
    "#ALAP\n",
    "dag_with_delays = ALAPSchedule(backend).run(dag)\n",
    "scheduled = dag_to_circuit(dag_with_delays)\n",
    "print(scheduled)"
   ]
  },
  {
   "cell_type": "markdown",
   "metadata": {},
   "source": [
    "###  Schedule passes convert the duration units into dt (values are rounded)"
   ]
  },
  {
   "cell_type": "code",
   "execution_count": 11,
   "metadata": {
    "scrolled": true
   },
   "outputs": [
    {
     "name": "stdout",
     "output_type": "stream",
     "text": [
      "      |---------------------------------------------------|\n",
      " q_0: | DELAY(4336)[4336] | U2(0,pi)[160] | CX(0,1)[1408] |\n",
      " q_1: |         DELAY(4496)[4496]         | CX(0,1)[1408] |\n",
      " q_2: |                 DELAY(5904)[5904]                 |\n",
      " q_3: |                 DELAY(5904)[5904]                 |\n",
      " q_4: |                 DELAY(5904)[5904]                 |\n",
      " q_5: |                 DELAY(5904)[5904]                 |\n",
      " q_6: |                 DELAY(5904)[5904]                 |\n",
      " q_7: |                 DELAY(5904)[5904]                 |\n",
      " q_8: |                 DELAY(5904)[5904]                 |\n",
      " q_9: |                 DELAY(5904)[5904]                 |\n",
      "q_10: |                 DELAY(5904)[5904]                 |\n",
      "q_11: |                 DELAY(5904)[5904]                 |\n",
      "q_12: |                 DELAY(5904)[5904]                 |\n",
      "q_13: |                 DELAY(5904)[5904]                 |\n",
      "q_14: |                 DELAY(5904)[5904]                 |\n",
      "q_15: |                 DELAY(5904)[5904]                 |\n",
      "q_16: |                 DELAY(5904)[5904]                 |\n",
      "q_17: |                 DELAY(5904)[5904]                 |\n",
      "q_18: |                 DELAY(5904)[5904]                 |\n",
      "q_19: |                 DELAY(5904)[5904]                 |\n",
      "q_20: |                 DELAY(5904)[5904]                 |\n",
      "q_21: |                 DELAY(5904)[5904]                 |\n",
      "q_22: |                 DELAY(5904)[5904]                 |\n",
      "q_23: |                 DELAY(5904)[5904]                 |\n",
      "q_24: |                 DELAY(5904)[5904]                 |\n",
      "q_25: |                 DELAY(5904)[5904]                 |\n",
      "q_26: |                 DELAY(5904)[5904]                 |\n",
      "      |---------------------------------------------------|\n"
     ]
    },
    {
     "name": "stderr",
     "output_type": "stream",
     "text": [
      "/Users/itoko/swd/qiskit-dev/qiskit-sdk-py/qiskit/transpiler/passes/scheduling/utils.py:55: UserWarning: Duration of delay is rounded to 4496 dt = 9.991111e-07 s from 9.990000e-07\n",
      "  UserWarning)\n"
     ]
    }
   ],
   "source": [
    "bell = QuantumCircuit(2, name=\"bell_with_manual_delay_ns\")\n",
    "bell.h(0)\n",
    "bell.delay(999, 1, unit='ns')\n",
    "bell.cx(0,1)\n",
    "print(bell.schedule(backend))"
   ]
  },
  {
   "cell_type": "code",
   "execution_count": 12,
   "metadata": {
    "scrolled": true
   },
   "outputs": [
    {
     "name": "stdout",
     "output_type": "stream",
     "text": [
      "      |-------------------------------------------------|\n",
      " q_0: | DELAY(839)[839] | U2(0,pi)[160] | CX(0,1)[1408] |\n",
      " q_1: |         DELAY(999)[999]         | CX(0,1)[1408] |\n",
      " q_2: |                DELAY(2407)[2407]                |\n",
      " q_3: |                DELAY(2407)[2407]                |\n",
      " q_4: |                DELAY(2407)[2407]                |\n",
      " q_5: |                DELAY(2407)[2407]                |\n",
      " q_6: |                DELAY(2407)[2407]                |\n",
      " q_7: |                DELAY(2407)[2407]                |\n",
      " q_8: |                DELAY(2407)[2407]                |\n",
      " q_9: |                DELAY(2407)[2407]                |\n",
      "q_10: |                DELAY(2407)[2407]                |\n",
      "q_11: |                DELAY(2407)[2407]                |\n",
      "q_12: |                DELAY(2407)[2407]                |\n",
      "q_13: |                DELAY(2407)[2407]                |\n",
      "q_14: |                DELAY(2407)[2407]                |\n",
      "q_15: |                DELAY(2407)[2407]                |\n",
      "q_16: |                DELAY(2407)[2407]                |\n",
      "q_17: |                DELAY(2407)[2407]                |\n",
      "q_18: |                DELAY(2407)[2407]                |\n",
      "q_19: |                DELAY(2407)[2407]                |\n",
      "q_20: |                DELAY(2407)[2407]                |\n",
      "q_21: |                DELAY(2407)[2407]                |\n",
      "q_22: |                DELAY(2407)[2407]                |\n",
      "q_23: |                DELAY(2407)[2407]                |\n",
      "q_24: |                DELAY(2407)[2407]                |\n",
      "q_25: |                DELAY(2407)[2407]                |\n",
      "q_26: |                DELAY(2407)[2407]                |\n",
      "      |-------------------------------------------------|\n"
     ]
    }
   ],
   "source": [
    "bell = QuantumCircuit(2, name=\"bell_with_manual_delay_unitless\")\n",
    "bell.h(0)\n",
    "bell.delay(999, 1)\n",
    "bell.cx(0,1)\n",
    "print(bell.schedule(backend))"
   ]
  },
  {
   "cell_type": "markdown",
   "metadata": {},
   "source": [
    "##  Assembly qobj"
   ]
  },
  {
   "cell_type": "code",
   "execution_count": 13,
   "metadata": {
    "scrolled": true
   },
   "outputs": [
    {
     "data": {
      "text/html": [
       "<pre style=\"word-wrap: normal;white-space: pre;background: #fff0;line-height: 1.1;font-family: &quot;Courier New&quot;,Courier,monospace\">             ┌───┐            ░ ┌─┐   \n",
       "   q_0: ─────┤ H ├────────■───░─┤M├───\n",
       "        ┌────┴───┴─────┐┌─┴─┐ ░ └╥┘┌─┐\n",
       "   q_1: ┤ DELAY(1e-07) ├┤ X ├─░──╫─┤M├\n",
       "        └──────────────┘└───┘ ░  ║ └╥┘\n",
       "meas_0: ═════════════════════════╩══╬═\n",
       "                                    ║ \n",
       "meas_1: ════════════════════════════╩═\n",
       "                                      </pre>"
      ],
      "text/plain": [
       "             ┌───┐            ░ ┌─┐   \n",
       "   q_0: ─────┤ H ├────────■───░─┤M├───\n",
       "        ┌────┴───┴─────┐┌─┴─┐ ░ └╥┘┌─┐\n",
       "   q_1: ┤ DELAY(1e-07) ├┤ X ├─░──╫─┤M├\n",
       "        └──────────────┘└───┘ ░  ║ └╥┘\n",
       "meas_0: ═════════════════════════╩══╬═\n",
       "                                    ║ \n",
       "meas_1: ════════════════════════════╩═\n",
       "                                      "
      ]
     },
     "execution_count": 13,
     "metadata": {},
     "output_type": "execute_result"
    }
   ],
   "source": [
    "qc = QuantumCircuit(2, name=\"bell_with_delay\")\n",
    "qc.h(0)\n",
    "qc.delay(100, 1, unit='ns')\n",
    "qc.cx(0,1)\n",
    "qc.measure_all()\n",
    "qc.draw()"
   ]
  },
  {
   "cell_type": "code",
   "execution_count": 14,
   "metadata": {},
   "outputs": [
    {
     "data": {
      "text/plain": [
       "      |-------------------------------------------------------------------------\n",
       " q_0: | DELAY(290)[290] | U2(0,pi)[160] | CX(0,1)[1408] | BARRIER(0,1)[0] | MEAS\n",
       " q_1: |         DELAY(450)[450]         | CX(0,1)[1408] | BARRIER(0,1)[0] | MEAS\n",
       " q_2: |                                DELAY(21058)[21058]                      \n",
       " q_3: |                                DELAY(21058)[21058]                      \n",
       " q_4: |                                DELAY(21058)[21058]                      \n",
       " q_5: |                                DELAY(21058)[21058]                      \n",
       " q_6: |                                DELAY(21058)[21058]                      \n",
       " q_7: |                                DELAY(21058)[21058]                      \n",
       " q_8: |                                DELAY(21058)[21058]                      \n",
       " q_9: |                                DELAY(21058)[21058]                      \n",
       "q_10: |                                DELAY(21058)[21058]                      \n",
       "q_11: |                                DELAY(21058)[21058]                      \n",
       "q_12: |                                DELAY(21058)[21058]                      \n",
       "q_13: |                                DELAY(21058)[21058]                      \n",
       "q_14: |                                DELAY(21058)[21058]                      \n",
       "q_15: |                                DELAY(21058)[21058]                      \n",
       "q_16: |                                DELAY(21058)[21058]                      \n",
       "q_17: |                                DELAY(21058)[21058]                      \n",
       "q_18: |                                DELAY(21058)[21058]                      \n",
       "q_19: |                                DELAY(21058)[21058]                      \n",
       "q_20: |                                DELAY(21058)[21058]                      \n",
       "q_21: |                                DELAY(21058)[21058]                      \n",
       "q_22: |                                DELAY(21058)[21058]                      \n",
       "q_23: |                                DELAY(21058)[21058]                      \n",
       "q_24: |                                DELAY(21058)[21058]                      \n",
       "q_25: |                                DELAY(21058)[21058]                      \n",
       "q_26: |                                DELAY(21058)[21058]                      \n",
       "      |-------------------------------------------------------------------------\n",
       "-----------|\n",
       "URE[19200] |\n",
       "URE[19200] |\n",
       "           |\n",
       "           |\n",
       "           |\n",
       "           |\n",
       "           |\n",
       "           |\n",
       "           |\n",
       "           |\n",
       "           |\n",
       "           |\n",
       "           |\n",
       "           |\n",
       "           |\n",
       "           |\n",
       "           |\n",
       "           |\n",
       "           |\n",
       "           |\n",
       "           |\n",
       "           |\n",
       "           |\n",
       "           |\n",
       "           |\n",
       "           |\n",
       "           |\n",
       "-----------|"
      ]
     },
     "execution_count": 14,
     "metadata": {},
     "output_type": "execute_result"
    }
   ],
   "source": [
    "sc = qc.schedule(backend)\n",
    "sc.draw()"
   ]
  },
  {
   "cell_type": "code",
   "execution_count": 15,
   "metadata": {},
   "outputs": [
    {
     "name": "stdout",
     "output_type": "stream",
     "text": [
      "\t\tparams: [21058]\n",
      "\t\tqubits: [22]\n",
      "\t\tduration: 21058\n",
      "\n",
      "\tInstruction: delay\n",
      "\t\tparams: [21058]\n",
      "\t\tqubits: [23]\n",
      "\t\tduration: 21058\n",
      "\n",
      "\tInstruction: delay\n",
      "\t\tparams: [21058]\n",
      "\t\tqubits: [24]\n",
      "\t\tduration: 21058\n",
      "\n",
      "\tInstruction: delay\n",
      "\t\tparams: [21058]\n",
      "\t\tqubits: [25]\n",
      "\t\tduration: 21058\n",
      "\n",
      "\tInstruction: delay\n",
      "\t\tparams: [21058]\n",
      "\t\tqubits: [26]\n",
      "\t\tduration: 21058\n",
      "\n",
      "\tInstruction: measure\n",
      "\t\tqubits: [0]\n",
      "\t\tmemory: [0]\n",
      "\t\tduration: 19200\n",
      "\n",
      "\tInstruction: measure\n",
      "\t\tqubits: [1]\n",
      "\t\tmemory: [1]\n",
      "\t\tduration: 19200\n",
      "\n",
      "\n"
     ]
    }
   ],
   "source": [
    "from qiskit import assemble\n",
    "qobj = assemble(sc, backend=backend, shots=1000)\n",
    "print(\"\\n\".join(str(qobj).split('\\n')[-35:]))"
   ]
  },
  {
   "cell_type": "code",
   "execution_count": 16,
   "metadata": {},
   "outputs": [
    {
     "name": "stdout",
     "output_type": "stream",
     "text": [
      "{'memory_slots': 2, 'n_qubits': 27}\n",
      "\n",
      "\tInstruction: u2\n",
      "\t\tparams: [0, 3.141592653589793]\n",
      "\t\tqubits: [0]\n",
      "\n",
      "\tInstruction: delay\n",
      "\t\tparams: [1.0000000000000001e-07]\n",
      "\t\tqubits: [1]\n",
      "\n",
      "\tInstruction: cx\n",
      "\t\tqubits: [0, 1]\n",
      "\n",
      "\tInstruction: barrier\n",
      "\t\tqubits: [0, 1]\n",
      "\n",
      "\tInstruction: measure\n",
      "\t\tqubits: [0]\n",
      "\t\tmemory: [0]\n",
      "\n",
      "\tInstruction: measure\n",
      "\t\tqubits: [1]\n",
      "\t\tmemory: [1]\n",
      "\n",
      "\n"
     ]
    }
   ],
   "source": [
    "transpiled = transpile(qc, backend=backend, optimization_level=0, basis_gates=['u1', 'u2', 'u3', 'cx', 'delay'])\n",
    "qobj = assemble(transpiled, backend=backend, shots=1000)\n",
    "print(\"\\n\".join(str(qobj).split('\\n')[-25:]))"
   ]
  },
  {
   "cell_type": "markdown",
   "metadata": {},
   "source": [
    "##  Timesteps"
   ]
  },
  {
   "cell_type": "code",
   "execution_count": 17,
   "metadata": {},
   "outputs": [],
   "source": [
    "from qiskit.transpiler.passes.scheduling.timestepsasap import TimestepsASAPSchedule\n",
    "def timestep_schedule(qc, backend, extra_basis=None):\n",
    "    basis_gates = ['u1', 'u2', 'u3', 'cx', 'delay']\n",
    "    if extra_basis:\n",
    "        basis_gates += extra_basis\n",
    "    transpiled = transpile(qc, backend=backend, optimization_level=0, basis_gates=basis_gates)\n",
    "    dag = circuit_to_dag(transpiled)\n",
    "    dag_with_delays = TimestepsASAPSchedule(backend).run(dag)\n",
    "    scheduled = dag_to_circuit(dag_with_delays)\n",
    "    return scheduled"
   ]
  },
  {
   "cell_type": "code",
   "execution_count": 18,
   "metadata": {
    "scrolled": true
   },
   "outputs": [
    {
     "data": {
      "text/html": [
       "<pre style=\"word-wrap: normal;white-space: pre;background: #fff0;line-height: 1.1;font-family: &quot;Courier New&quot;,Courier,monospace\">             ┌───┐            ░ ┌─┐   \n",
       "   q_0: ─────┤ H ├────────■───░─┤M├───\n",
       "        ┌────┴───┴─────┐┌─┴─┐ ░ └╥┘┌─┐\n",
       "   q_1: ┤ DELAY(1e-07) ├┤ X ├─░──╫─┤M├\n",
       "        └──────────────┘└───┘ ░  ║ └╥┘\n",
       "meas_0: ═════════════════════════╩══╬═\n",
       "                                    ║ \n",
       "meas_1: ════════════════════════════╩═\n",
       "                                      </pre>"
      ],
      "text/plain": [
       "             ┌───┐            ░ ┌─┐   \n",
       "   q_0: ─────┤ H ├────────■───░─┤M├───\n",
       "        ┌────┴───┴─────┐┌─┴─┐ ░ └╥┘┌─┐\n",
       "   q_1: ┤ DELAY(1e-07) ├┤ X ├─░──╫─┤M├\n",
       "        └──────────────┘└───┘ ░  ║ └╥┘\n",
       "meas_0: ═════════════════════════╩══╬═\n",
       "                                    ║ \n",
       "meas_1: ════════════════════════════╩═\n",
       "                                      "
      ]
     },
     "execution_count": 18,
     "metadata": {},
     "output_type": "execute_result"
    }
   ],
   "source": [
    "qc = QuantumCircuit(2, name=\"bell_with_delay\")\n",
    "qc.h(0)\n",
    "qc.delay(100, 1, unit='ns')\n",
    "qc.cx(0,1)\n",
    "qc.measure_all()\n",
    "qc.draw()"
   ]
  },
  {
   "cell_type": "code",
   "execution_count": 19,
   "metadata": {},
   "outputs": [
    {
     "name": "stdout",
     "output_type": "stream",
     "text": [
      "      |-------------------------------------------------------------------------\n",
      " q_0: |  U2(0,pi)[160]  | TIMESTEP(160)[0] | DELAY(290)[290] | TIMESTEP(290)[0] \n",
      " q_1: | DELAY(160)[160] | TIMESTEP(160)[0] | DELAY(290)[290] | TIMESTEP(290)[0] \n",
      " q_2: | DELAY(160)[160] | TIMESTEP(160)[0] | DELAY(290)[290] | TIMESTEP(290)[0] \n",
      " q_3: | DELAY(160)[160] | TIMESTEP(160)[0] | DELAY(290)[290] | TIMESTEP(290)[0] \n",
      " q_4: | DELAY(160)[160] | TIMESTEP(160)[0] | DELAY(290)[290] | TIMESTEP(290)[0] \n",
      " q_5: | DELAY(160)[160] | TIMESTEP(160)[0] | DELAY(290)[290] | TIMESTEP(290)[0] \n",
      " q_6: | DELAY(160)[160] | TIMESTEP(160)[0] | DELAY(290)[290] | TIMESTEP(290)[0] \n",
      " q_7: | DELAY(160)[160] | TIMESTEP(160)[0] | DELAY(290)[290] | TIMESTEP(290)[0] \n",
      " q_8: | DELAY(160)[160] | TIMESTEP(160)[0] | DELAY(290)[290] | TIMESTEP(290)[0] \n",
      " q_9: | DELAY(160)[160] | TIMESTEP(160)[0] | DELAY(290)[290] | TIMESTEP(290)[0] \n",
      "q_10: | DELAY(160)[160] | TIMESTEP(160)[0] | DELAY(290)[290] | TIMESTEP(290)[0] \n",
      "q_11: | DELAY(160)[160] | TIMESTEP(160)[0] | DELAY(290)[290] | TIMESTEP(290)[0] \n",
      "q_12: | DELAY(160)[160] | TIMESTEP(160)[0] | DELAY(290)[290] | TIMESTEP(290)[0] \n",
      "q_13: | DELAY(160)[160] | TIMESTEP(160)[0] | DELAY(290)[290] | TIMESTEP(290)[0] \n",
      "q_14: | DELAY(160)[160] | TIMESTEP(160)[0] | DELAY(290)[290] | TIMESTEP(290)[0] \n",
      "q_15: | DELAY(160)[160] | TIMESTEP(160)[0] | DELAY(290)[290] | TIMESTEP(290)[0] \n",
      "q_16: | DELAY(160)[160] | TIMESTEP(160)[0] | DELAY(290)[290] | TIMESTEP(290)[0] \n",
      "q_17: | DELAY(160)[160] | TIMESTEP(160)[0] | DELAY(290)[290] | TIMESTEP(290)[0] \n",
      "q_18: | DELAY(160)[160] | TIMESTEP(160)[0] | DELAY(290)[290] | TIMESTEP(290)[0] \n",
      "q_19: | DELAY(160)[160] | TIMESTEP(160)[0] | DELAY(290)[290] | TIMESTEP(290)[0] \n",
      "q_20: | DELAY(160)[160] | TIMESTEP(160)[0] | DELAY(290)[290] | TIMESTEP(290)[0] \n",
      "q_21: | DELAY(160)[160] | TIMESTEP(160)[0] | DELAY(290)[290] | TIMESTEP(290)[0] \n",
      "q_22: | DELAY(160)[160] | TIMESTEP(160)[0] | DELAY(290)[290] | TIMESTEP(290)[0] \n",
      "q_23: | DELAY(160)[160] | TIMESTEP(160)[0] | DELAY(290)[290] | TIMESTEP(290)[0] \n",
      "q_24: | DELAY(160)[160] | TIMESTEP(160)[0] | DELAY(290)[290] | TIMESTEP(290)[0] \n",
      "q_25: | DELAY(160)[160] | TIMESTEP(160)[0] | DELAY(290)[290] | TIMESTEP(290)[0] \n",
      "q_26: | DELAY(160)[160] | TIMESTEP(160)[0] | DELAY(290)[290] | TIMESTEP(290)[0] \n",
      "      |-------------------------------------------------------------------------\n",
      "--------------------------------------------------------------------------------\n",
      "|   CX(0,1)[1408]   | BARRIER(0,1)[0] | TIMESTEP(1408)[0] |    MEASURE[19200]   \n",
      "|   CX(0,1)[1408]   | BARRIER(0,1)[0] | TIMESTEP(1408)[0] |    MEASURE[19200]   \n",
      "| DELAY(1408)[1408] |*****************| TIMESTEP(1408)[0] | DELAY(19200)[19200] \n",
      "| DELAY(1408)[1408] |*****************| TIMESTEP(1408)[0] | DELAY(19200)[19200] \n",
      "| DELAY(1408)[1408] |*****************| TIMESTEP(1408)[0] | DELAY(19200)[19200] \n",
      "| DELAY(1408)[1408] |*****************| TIMESTEP(1408)[0] | DELAY(19200)[19200] \n",
      "| DELAY(1408)[1408] |*****************| TIMESTEP(1408)[0] | DELAY(19200)[19200] \n",
      "| DELAY(1408)[1408] |*****************| TIMESTEP(1408)[0] | DELAY(19200)[19200] \n",
      "| DELAY(1408)[1408] |*****************| TIMESTEP(1408)[0] | DELAY(19200)[19200] \n",
      "| DELAY(1408)[1408] |*****************| TIMESTEP(1408)[0] | DELAY(19200)[19200] \n",
      "| DELAY(1408)[1408] |*****************| TIMESTEP(1408)[0] | DELAY(19200)[19200] \n",
      "| DELAY(1408)[1408] |*****************| TIMESTEP(1408)[0] | DELAY(19200)[19200] \n",
      "| DELAY(1408)[1408] |*****************| TIMESTEP(1408)[0] | DELAY(19200)[19200] \n",
      "| DELAY(1408)[1408] |*****************| TIMESTEP(1408)[0] | DELAY(19200)[19200] \n",
      "| DELAY(1408)[1408] |*****************| TIMESTEP(1408)[0] | DELAY(19200)[19200] \n",
      "| DELAY(1408)[1408] |*****************| TIMESTEP(1408)[0] | DELAY(19200)[19200] \n",
      "| DELAY(1408)[1408] |*****************| TIMESTEP(1408)[0] | DELAY(19200)[19200] \n",
      "| DELAY(1408)[1408] |*****************| TIMESTEP(1408)[0] | DELAY(19200)[19200] \n",
      "| DELAY(1408)[1408] |*****************| TIMESTEP(1408)[0] | DELAY(19200)[19200] \n",
      "| DELAY(1408)[1408] |*****************| TIMESTEP(1408)[0] | DELAY(19200)[19200] \n",
      "| DELAY(1408)[1408] |*****************| TIMESTEP(1408)[0] | DELAY(19200)[19200] \n",
      "| DELAY(1408)[1408] |*****************| TIMESTEP(1408)[0] | DELAY(19200)[19200] \n",
      "| DELAY(1408)[1408] |*****************| TIMESTEP(1408)[0] | DELAY(19200)[19200] \n",
      "| DELAY(1408)[1408] |*****************| TIMESTEP(1408)[0] | DELAY(19200)[19200] \n",
      "| DELAY(1408)[1408] |*****************| TIMESTEP(1408)[0] | DELAY(19200)[19200] \n",
      "| DELAY(1408)[1408] |*****************| TIMESTEP(1408)[0] | DELAY(19200)[19200] \n",
      "| DELAY(1408)[1408] |*****************| TIMESTEP(1408)[0] | DELAY(19200)[19200] \n",
      "--------------------------------------------------------------------------------\n",
      "---------------------|\n",
      "| TIMESTEP(19200)[0] |\n",
      "| TIMESTEP(19200)[0] |\n",
      "| TIMESTEP(19200)[0] |\n",
      "| TIMESTEP(19200)[0] |\n",
      "| TIMESTEP(19200)[0] |\n",
      "| TIMESTEP(19200)[0] |\n",
      "| TIMESTEP(19200)[0] |\n",
      "| TIMESTEP(19200)[0] |\n",
      "| TIMESTEP(19200)[0] |\n",
      "| TIMESTEP(19200)[0] |\n",
      "| TIMESTEP(19200)[0] |\n",
      "| TIMESTEP(19200)[0] |\n",
      "| TIMESTEP(19200)[0] |\n",
      "| TIMESTEP(19200)[0] |\n",
      "| TIMESTEP(19200)[0] |\n",
      "| TIMESTEP(19200)[0] |\n",
      "| TIMESTEP(19200)[0] |\n",
      "| TIMESTEP(19200)[0] |\n",
      "| TIMESTEP(19200)[0] |\n",
      "| TIMESTEP(19200)[0] |\n",
      "| TIMESTEP(19200)[0] |\n",
      "| TIMESTEP(19200)[0] |\n",
      "| TIMESTEP(19200)[0] |\n",
      "| TIMESTEP(19200)[0] |\n",
      "| TIMESTEP(19200)[0] |\n",
      "| TIMESTEP(19200)[0] |\n",
      "| TIMESTEP(19200)[0] |\n",
      "---------------------|\n"
     ]
    }
   ],
   "source": [
    "sc = timestep_schedule(qc, backend)\n",
    "print(sc.draw())"
   ]
  },
  {
   "cell_type": "code",
   "execution_count": 20,
   "metadata": {},
   "outputs": [
    {
     "name": "stdout",
     "output_type": "stream",
     "text": [
      "QASM Qobj: 05e6c3f9-4dbd-4d4d-ba80-00cf8cf5c5bb:\n",
      "Config: {'memory': False,\n",
      " 'memory_slots': 2,\n",
      " 'n_qubits': 27,\n",
      " 'parameter_binds': [],\n",
      " 'shots': 1000}\n",
      "Header: {'backend_name': 'fake_paris', 'backend_version': '1.0.3'}\n",
      "Experiments:\n",
      "\n",
      "QASM Experiment:\n",
      "Header:\n",
      "{'clbit_labels': [['meas', 0], ['meas', 1]],\n",
      " 'creg_sizes': [['meas', 2]],\n",
      " 'memory_slots': 2,\n",
      " 'n_qubits': 27,\n",
      " 'name': 'bell_with_delay',\n",
      " 'qreg_sizes': [['q', 27]],\n",
      " 'qubit_labels': [['q', 0],\n",
      "                  ['q', 1],\n",
      "                  ['q', 2],\n",
      "                  ['q', 3],\n",
      "                  ['q', 4],\n",
      "                  ['q', 5],\n",
      "                  ['q', 6],\n",
      "                  ['q', 7],\n",
      "                  ['q', 8],\n",
      "                  ['q', 9],\n",
      "                  ['q', 10],\n",
      "                  ['q', 11],\n",
      "                  ['q', 12],\n",
      "                  ['q', 13],\n",
      "                  ['q', 14],\n",
      "                  ['q', 15],\n",
      "                  ['q', 16],\n",
      "                  ['q', 17],\n",
      "                  ['q', 18],\n",
      "                  ['q', 19],\n",
      "                  ['q', 20],\n",
      "                  ['q', 21],\n",
      "                  ['q', 22],\n",
      "                  ['q', 23],\n",
      "                  ['q', 24],\n",
      "                  ['q', 25],\n",
      "                  ['q', 26]]}\n",
      "Config:\n",
      "{'memory_slots': 2, 'n_qubits': 27}\n",
      "\n",
      "\tInstruction: u2\n",
      "\t\tparams: [0, 3.141592653589793]\n",
      "\t\tqubits: [0]\n",
      "\t\tduration: 160\n",
      "\n",
      "\tInstruction: delay\n",
      "\t\tparams: [160]\n",
      "\t\tqubits: [1]\n",
      "\t\tduration: 160\n",
      "\n",
      "\tInstruction: delay\n",
      "\t\tparams: [160]\n",
      "\t\tqubits: [2]\n",
      "\t\tduration: 160\n",
      "\n",
      "\tInstruction: delay\n",
      "\t\tparams: [160]\n",
      "\t\tqubits: [3]\n",
      "\t\tduration: 160\n",
      "\n",
      "\tInstruction: delay\n",
      "\t\tparams: [160]\n",
      "\t\tqubits: [4]\n",
      "\t\tduration: 160\n",
      "\n",
      "\tInstruction: delay\n",
      "\t\tparams: [160]\n",
      "\t\tqubits: [5]\n",
      "\t\tduration: 160\n",
      "\n",
      "\tInstruction: delay\n",
      "\t\tparams: [160]\n",
      "\t\tqubits: [6]\n",
      "\t\tduration: 160\n",
      "\n",
      "\tInstruction: delay\n",
      "\t\tparams: [160]\n",
      "\t\tqubits: [7]\n",
      "\t\tduration: 160\n",
      "\n",
      "\tInstruction: delay\n",
      "\t\tparams: [160]\n",
      "\t\tqubits: [8]\n",
      "\t\tduration: 160\n",
      "\n",
      "\tInstruction: delay\n",
      "\t\tparams: [160]\n",
      "\t\tqubits: [9]\n",
      "\t\tduration: 160\n",
      "\n",
      "\tInstruction: delay\n",
      "\t\tparams: [160]\n",
      "\t\tqubits: [10]\n",
      "\t\tduration: 160\n",
      "\n",
      "\tInstruction: delay\n",
      "\t\tparams: [160]\n",
      "\t\tqubits: [11]\n",
      "\t\tduration: 160\n",
      "\n",
      "\tInstruction: delay\n",
      "\t\tparams: [160]\n",
      "\t\tqubits: [12]\n",
      "\t\tduration: 160\n",
      "\n",
      "\tInstruction: delay\n",
      "\t\tparams: [160]\n",
      "\t\tqubits: [13]\n",
      "\t\tduration: 160\n",
      "\n",
      "\tInstruction: delay\n",
      "\t\tparams: [160]\n",
      "\t\tqubits: [14]\n",
      "\t\tduration: 160\n",
      "\n",
      "\tInstruction: delay\n",
      "\t\tparams: [160]\n",
      "\t\tqubits: [15]\n",
      "\t\tduration: 160\n",
      "\n",
      "\tInstruction: delay\n",
      "\t\tparams: [160]\n",
      "\t\tqubits: [16]\n",
      "\t\tduration: 160\n",
      "\n",
      "\tInstruction: delay\n",
      "\t\tparams: [160]\n",
      "\t\tqubits: [17]\n",
      "\t\tduration: 160\n",
      "\n",
      "\tInstruction: delay\n",
      "\t\tparams: [160]\n",
      "\t\tqubits: [18]\n",
      "\t\tduration: 160\n",
      "\n",
      "\tInstruction: delay\n",
      "\t\tparams: [160]\n",
      "\t\tqubits: [19]\n",
      "\t\tduration: 160\n",
      "\n",
      "\tInstruction: delay\n",
      "\t\tparams: [160]\n",
      "\t\tqubits: [20]\n",
      "\t\tduration: 160\n",
      "\n",
      "\tInstruction: delay\n",
      "\t\tparams: [160]\n",
      "\t\tqubits: [21]\n",
      "\t\tduration: 160\n",
      "\n",
      "\tInstruction: delay\n",
      "\t\tparams: [160]\n",
      "\t\tqubits: [22]\n",
      "\t\tduration: 160\n",
      "\n",
      "\tInstruction: delay\n",
      "\t\tparams: [160]\n",
      "\t\tqubits: [23]\n",
      "\t\tduration: 160\n",
      "\n",
      "\tInstruction: delay\n",
      "\t\tparams: [160]\n",
      "\t\tqubits: [24]\n",
      "\t\tduration: 160\n",
      "\n",
      "\tInstruction: delay\n",
      "\t\tparams: [160]\n",
      "\t\tqubits: [25]\n",
      "\t\tduration: 160\n",
      "\n",
      "\tInstruction: delay\n",
      "\t\tparams: [160]\n",
      "\t\tqubits: [26]\n",
      "\t\tduration: 160\n",
      "\n",
      "\tInstruction: timestep\n",
      "\t\tparams: [160]\n",
      "\t\tqubits: [0, 1, 2, 3, 4, 5, 6, 7, 8, 9, 10, 11, 12, 13, 14, 15, 16, 17, 18, 19, 20, 21, 22, 23, 24, 25, 26]\n",
      "\t\tduration: 0\n",
      "\n",
      "\tInstruction: delay\n",
      "\t\tparams: [290]\n",
      "\t\tqubits: [0]\n",
      "\t\tduration: 290\n",
      "\n",
      "\tInstruction: delay\n",
      "\t\tparams: [290]\n",
      "\t\tqubits: [1]\n",
      "\t\tduration: 290\n",
      "\n",
      "\tInstruction: delay\n",
      "\t\tparams: [290]\n",
      "\t\tqubits: [10]\n",
      "\t\tduration: 290\n",
      "\n",
      "\tInstruction: delay\n",
      "\t\tparams: [290]\n",
      "\t\tqubits: [11]\n",
      "\t\tduration: 290\n",
      "\n",
      "\tInstruction: delay\n",
      "\t\tparams: [290]\n",
      "\t\tqubits: [12]\n",
      "\t\tduration: 290\n",
      "\n",
      "\tInstruction: delay\n",
      "\t\tparams: [290]\n",
      "\t\tqubits: [13]\n",
      "\t\tduration: 290\n",
      "\n",
      "\tInstruction: delay\n",
      "\t\tparams: [290]\n",
      "\t\tqubits: [14]\n",
      "\t\tduration: 290\n",
      "\n",
      "\tInstruction: delay\n",
      "\t\tparams: [290]\n",
      "\t\tqubits: [15]\n",
      "\t\tduration: 290\n",
      "\n",
      "\tInstruction: delay\n",
      "\t\tparams: [290]\n",
      "\t\tqubits: [16]\n",
      "\t\tduration: 290\n",
      "\n",
      "\tInstruction: delay\n",
      "\t\tparams: [290]\n",
      "\t\tqubits: [17]\n",
      "\t\tduration: 290\n",
      "\n",
      "\tInstruction: delay\n",
      "\t\tparams: [290]\n",
      "\t\tqubits: [18]\n",
      "\t\tduration: 290\n",
      "\n",
      "\tInstruction: delay\n",
      "\t\tparams: [290]\n",
      "\t\tqubits: [19]\n",
      "\t\tduration: 290\n",
      "\n",
      "\tInstruction: delay\n",
      "\t\tparams: [290]\n",
      "\t\tqubits: [2]\n",
      "\t\tduration: 290\n",
      "\n",
      "\tInstruction: delay\n",
      "\t\tparams: [290]\n",
      "\t\tqubits: [20]\n",
      "\t\tduration: 290\n",
      "\n",
      "\tInstruction: delay\n",
      "\t\tparams: [290]\n",
      "\t\tqubits: [21]\n",
      "\t\tduration: 290\n",
      "\n",
      "\tInstruction: delay\n",
      "\t\tparams: [290]\n",
      "\t\tqubits: [22]\n",
      "\t\tduration: 290\n",
      "\n",
      "\tInstruction: delay\n",
      "\t\tparams: [290]\n",
      "\t\tqubits: [23]\n",
      "\t\tduration: 290\n",
      "\n",
      "\tInstruction: delay\n",
      "\t\tparams: [290]\n",
      "\t\tqubits: [24]\n",
      "\t\tduration: 290\n",
      "\n",
      "\tInstruction: delay\n",
      "\t\tparams: [290]\n",
      "\t\tqubits: [25]\n",
      "\t\tduration: 290\n",
      "\n",
      "\tInstruction: delay\n",
      "\t\tparams: [290]\n",
      "\t\tqubits: [26]\n",
      "\t\tduration: 290\n",
      "\n",
      "\tInstruction: delay\n",
      "\t\tparams: [290]\n",
      "\t\tqubits: [3]\n",
      "\t\tduration: 290\n",
      "\n",
      "\tInstruction: delay\n",
      "\t\tparams: [290]\n",
      "\t\tqubits: [4]\n",
      "\t\tduration: 290\n",
      "\n",
      "\tInstruction: delay\n",
      "\t\tparams: [290]\n",
      "\t\tqubits: [5]\n",
      "\t\tduration: 290\n",
      "\n",
      "\tInstruction: delay\n",
      "\t\tparams: [290]\n",
      "\t\tqubits: [6]\n",
      "\t\tduration: 290\n",
      "\n",
      "\tInstruction: delay\n",
      "\t\tparams: [290]\n",
      "\t\tqubits: [7]\n",
      "\t\tduration: 290\n",
      "\n",
      "\tInstruction: delay\n",
      "\t\tparams: [290]\n",
      "\t\tqubits: [8]\n",
      "\t\tduration: 290\n",
      "\n",
      "\tInstruction: delay\n",
      "\t\tparams: [290]\n",
      "\t\tqubits: [9]\n",
      "\t\tduration: 290\n",
      "\n",
      "\tInstruction: timestep\n",
      "\t\tparams: [290]\n",
      "\t\tqubits: [0, 1, 2, 3, 4, 5, 6, 7, 8, 9, 10, 11, 12, 13, 14, 15, 16, 17, 18, 19, 20, 21, 22, 23, 24, 25, 26]\n",
      "\t\tduration: 0\n",
      "\n",
      "\tInstruction: cx\n",
      "\t\tqubits: [0, 1]\n",
      "\t\tduration: 1408\n",
      "\n",
      "\tInstruction: barrier\n",
      "\t\tqubits: [0, 1]\n",
      "\t\tduration: 0\n",
      "\n",
      "\tInstruction: delay\n",
      "\t\tparams: [1408]\n",
      "\t\tqubits: [10]\n",
      "\t\tduration: 1408\n",
      "\n",
      "\tInstruction: delay\n",
      "\t\tparams: [1408]\n",
      "\t\tqubits: [11]\n",
      "\t\tduration: 1408\n",
      "\n",
      "\tInstruction: delay\n",
      "\t\tparams: [1408]\n",
      "\t\tqubits: [12]\n",
      "\t\tduration: 1408\n",
      "\n",
      "\tInstruction: delay\n",
      "\t\tparams: [1408]\n",
      "\t\tqubits: [13]\n",
      "\t\tduration: 1408\n",
      "\n",
      "\tInstruction: delay\n",
      "\t\tparams: [1408]\n",
      "\t\tqubits: [14]\n",
      "\t\tduration: 1408\n",
      "\n",
      "\tInstruction: delay\n",
      "\t\tparams: [1408]\n",
      "\t\tqubits: [15]\n",
      "\t\tduration: 1408\n",
      "\n",
      "\tInstruction: delay\n",
      "\t\tparams: [1408]\n",
      "\t\tqubits: [16]\n",
      "\t\tduration: 1408\n",
      "\n",
      "\tInstruction: delay\n",
      "\t\tparams: [1408]\n",
      "\t\tqubits: [17]\n",
      "\t\tduration: 1408\n",
      "\n",
      "\tInstruction: delay\n",
      "\t\tparams: [1408]\n",
      "\t\tqubits: [18]\n",
      "\t\tduration: 1408\n",
      "\n",
      "\tInstruction: delay\n",
      "\t\tparams: [1408]\n",
      "\t\tqubits: [19]\n",
      "\t\tduration: 1408\n",
      "\n",
      "\tInstruction: delay\n",
      "\t\tparams: [1408]\n",
      "\t\tqubits: [2]\n",
      "\t\tduration: 1408\n",
      "\n",
      "\tInstruction: delay\n",
      "\t\tparams: [1408]\n",
      "\t\tqubits: [20]\n",
      "\t\tduration: 1408\n",
      "\n",
      "\tInstruction: delay\n",
      "\t\tparams: [1408]\n",
      "\t\tqubits: [21]\n",
      "\t\tduration: 1408\n",
      "\n",
      "\tInstruction: delay\n",
      "\t\tparams: [1408]\n",
      "\t\tqubits: [22]\n",
      "\t\tduration: 1408\n",
      "\n",
      "\tInstruction: delay\n",
      "\t\tparams: [1408]\n",
      "\t\tqubits: [23]\n",
      "\t\tduration: 1408\n",
      "\n",
      "\tInstruction: delay\n",
      "\t\tparams: [1408]\n",
      "\t\tqubits: [24]\n",
      "\t\tduration: 1408\n",
      "\n",
      "\tInstruction: delay\n",
      "\t\tparams: [1408]\n",
      "\t\tqubits: [25]\n",
      "\t\tduration: 1408\n",
      "\n",
      "\tInstruction: delay\n",
      "\t\tparams: [1408]\n",
      "\t\tqubits: [26]\n",
      "\t\tduration: 1408\n",
      "\n",
      "\tInstruction: delay\n",
      "\t\tparams: [1408]\n",
      "\t\tqubits: [3]\n",
      "\t\tduration: 1408\n",
      "\n",
      "\tInstruction: delay\n",
      "\t\tparams: [1408]\n",
      "\t\tqubits: [4]\n",
      "\t\tduration: 1408\n",
      "\n",
      "\tInstruction: delay\n",
      "\t\tparams: [1408]\n",
      "\t\tqubits: [5]\n",
      "\t\tduration: 1408\n",
      "\n",
      "\tInstruction: delay\n",
      "\t\tparams: [1408]\n",
      "\t\tqubits: [6]\n",
      "\t\tduration: 1408\n",
      "\n",
      "\tInstruction: delay\n",
      "\t\tparams: [1408]\n",
      "\t\tqubits: [7]\n",
      "\t\tduration: 1408\n",
      "\n",
      "\tInstruction: delay\n",
      "\t\tparams: [1408]\n",
      "\t\tqubits: [8]\n",
      "\t\tduration: 1408\n",
      "\n",
      "\tInstruction: delay\n",
      "\t\tparams: [1408]\n",
      "\t\tqubits: [9]\n",
      "\t\tduration: 1408\n",
      "\n",
      "\tInstruction: timestep\n",
      "\t\tparams: [1408]\n",
      "\t\tqubits: [0, 1, 2, 3, 4, 5, 6, 7, 8, 9, 10, 11, 12, 13, 14, 15, 16, 17, 18, 19, 20, 21, 22, 23, 24, 25, 26]\n",
      "\t\tduration: 0\n",
      "\n",
      "\tInstruction: delay\n",
      "\t\tparams: [19200]\n",
      "\t\tqubits: [10]\n",
      "\t\tduration: 19200\n",
      "\n",
      "\tInstruction: delay\n",
      "\t\tparams: [19200]\n",
      "\t\tqubits: [11]\n",
      "\t\tduration: 19200\n",
      "\n",
      "\tInstruction: delay\n",
      "\t\tparams: [19200]\n",
      "\t\tqubits: [12]\n",
      "\t\tduration: 19200\n",
      "\n",
      "\tInstruction: delay\n",
      "\t\tparams: [19200]\n",
      "\t\tqubits: [13]\n",
      "\t\tduration: 19200\n",
      "\n",
      "\tInstruction: delay\n",
      "\t\tparams: [19200]\n",
      "\t\tqubits: [14]\n",
      "\t\tduration: 19200\n",
      "\n",
      "\tInstruction: delay\n",
      "\t\tparams: [19200]\n",
      "\t\tqubits: [15]\n",
      "\t\tduration: 19200\n",
      "\n",
      "\tInstruction: delay\n",
      "\t\tparams: [19200]\n",
      "\t\tqubits: [16]\n",
      "\t\tduration: 19200\n",
      "\n",
      "\tInstruction: delay\n",
      "\t\tparams: [19200]\n",
      "\t\tqubits: [17]\n",
      "\t\tduration: 19200\n",
      "\n",
      "\tInstruction: delay\n",
      "\t\tparams: [19200]\n",
      "\t\tqubits: [18]\n",
      "\t\tduration: 19200\n",
      "\n",
      "\tInstruction: delay\n",
      "\t\tparams: [19200]\n",
      "\t\tqubits: [19]\n",
      "\t\tduration: 19200\n",
      "\n",
      "\tInstruction: delay\n",
      "\t\tparams: [19200]\n",
      "\t\tqubits: [2]\n",
      "\t\tduration: 19200\n",
      "\n",
      "\tInstruction: delay\n",
      "\t\tparams: [19200]\n",
      "\t\tqubits: [20]\n",
      "\t\tduration: 19200\n",
      "\n",
      "\tInstruction: delay\n",
      "\t\tparams: [19200]\n",
      "\t\tqubits: [21]\n",
      "\t\tduration: 19200\n",
      "\n",
      "\tInstruction: delay\n",
      "\t\tparams: [19200]\n",
      "\t\tqubits: [22]\n",
      "\t\tduration: 19200\n",
      "\n",
      "\tInstruction: delay\n",
      "\t\tparams: [19200]\n",
      "\t\tqubits: [23]\n",
      "\t\tduration: 19200\n",
      "\n",
      "\tInstruction: delay\n",
      "\t\tparams: [19200]\n",
      "\t\tqubits: [24]\n",
      "\t\tduration: 19200\n",
      "\n",
      "\tInstruction: delay\n",
      "\t\tparams: [19200]\n",
      "\t\tqubits: [25]\n",
      "\t\tduration: 19200\n",
      "\n",
      "\tInstruction: delay\n",
      "\t\tparams: [19200]\n",
      "\t\tqubits: [26]\n",
      "\t\tduration: 19200\n",
      "\n",
      "\tInstruction: delay\n",
      "\t\tparams: [19200]\n",
      "\t\tqubits: [3]\n",
      "\t\tduration: 19200\n",
      "\n",
      "\tInstruction: delay\n",
      "\t\tparams: [19200]\n",
      "\t\tqubits: [4]\n",
      "\t\tduration: 19200\n",
      "\n",
      "\tInstruction: delay\n",
      "\t\tparams: [19200]\n",
      "\t\tqubits: [5]\n",
      "\t\tduration: 19200\n",
      "\n",
      "\tInstruction: delay\n",
      "\t\tparams: [19200]\n",
      "\t\tqubits: [6]\n",
      "\t\tduration: 19200\n",
      "\n",
      "\tInstruction: delay\n",
      "\t\tparams: [19200]\n",
      "\t\tqubits: [7]\n",
      "\t\tduration: 19200\n",
      "\n",
      "\tInstruction: delay\n",
      "\t\tparams: [19200]\n",
      "\t\tqubits: [8]\n",
      "\t\tduration: 19200\n",
      "\n",
      "\tInstruction: delay\n",
      "\t\tparams: [19200]\n",
      "\t\tqubits: [9]\n",
      "\t\tduration: 19200\n",
      "\n",
      "\tInstruction: measure\n",
      "\t\tqubits: [0]\n",
      "\t\tmemory: [0]\n",
      "\t\tduration: 19200\n",
      "\n",
      "\tInstruction: measure\n",
      "\t\tqubits: [1]\n",
      "\t\tmemory: [1]\n",
      "\t\tduration: 19200\n",
      "\n",
      "\tInstruction: timestep\n",
      "\t\tparams: [19200]\n",
      "\t\tqubits: [0, 1, 2, 3, 4, 5, 6, 7, 8, 9, 10, 11, 12, 13, 14, 15, 16, 17, 18, 19, 20, 21, 22, 23, 24, 25, 26]\n",
      "\t\tduration: 0\n",
      "\n"
     ]
    },
    {
     "name": "stdout",
     "output_type": "stream",
     "text": [
      "\n"
     ]
    }
   ],
   "source": [
    "from qiskit import assemble\n",
    "qobj = assemble(sc, backend=backend, shots=1000)\n",
    "print(\"\\n\".join(str(qobj).split('\\n')))"
   ]
  },
  {
   "cell_type": "code",
   "execution_count": 21,
   "metadata": {
    "scrolled": true
   },
   "outputs": [
    {
     "data": {
      "text/html": [
       "<pre style=\"word-wrap: normal;white-space: pre;background: #fff0;line-height: 1.1;font-family: &quot;Courier New&quot;,Courier,monospace\">     ┌─────┐┌─────┐                        \n",
       "q_0: ┤ U20 ├┤ U20 ├────────────────────────\n",
       "     └┬────┤└┬────┤┌────┐┌────┐┌────┐┌────┐\n",
       "q_1: ─┤ U7 ├─┤ U7 ├┤ U7 ├┤ U7 ├┤ U7 ├┤ U7 ├\n",
       "      └────┘ └────┘└────┘└────┘└────┘└────┘</pre>"
      ],
      "text/plain": [
       "     ┌─────┐┌─────┐                        \n",
       "q_0: ┤ U20 ├┤ U20 ├────────────────────────\n",
       "     └┬────┤└┬────┤┌────┐┌────┐┌────┐┌────┐\n",
       "q_1: ─┤ U7 ├─┤ U7 ├┤ U7 ├┤ U7 ├┤ U7 ├┤ U7 ├\n",
       "      └────┘ └────┘└────┘└────┘└────┘└────┘"
      ]
     },
     "execution_count": 21,
     "metadata": {},
     "output_type": "execute_result"
    }
   ],
   "source": [
    "import numpy as np\n",
    "from qiskit.extensions import UnitaryGate\n",
    "U20 = UnitaryGate(np.eye(2), label=\"U20\")\n",
    "U20.duration = 20\n",
    "U7 = UnitaryGate(np.eye(2), label=\"U7\")\n",
    "U7.duration = 7\n",
    "qc = QuantumCircuit(2, name=\"U20-U7\")\n",
    "qc.append(U20, [0])\n",
    "qc.append(U20, [0])\n",
    "qc.append(U7, [1])\n",
    "qc.append(U7, [1])\n",
    "qc.append(U7, [1])\n",
    "qc.append(U7, [1])\n",
    "qc.append(U7, [1])\n",
    "qc.append(U7, [1])\n",
    "qc.draw()"
   ]
  },
  {
   "cell_type": "code",
   "execution_count": 22,
   "metadata": {},
   "outputs": [
    {
     "name": "stdout",
     "output_type": "stream",
     "text": [
      "     |--------------------------------------------------------------------------\n",
      "q_0: |        U20        | TIMESTEP(20)[0] |        U20        | TIMESTEP(20)[0]\n",
      "q_1: |U7|U7| DELAY(6)[6] | TIMESTEP(20)[0] |U7|U7| DELAY(6)[6] | TIMESTEP(20)[0]\n",
      "     |--------------------------------------------------------------------------\n",
      "---------------------------------------------------------------|\n",
      " | DELAY(7)[7] | TIMESTEP(7)[0] | DELAY(7)[7] | TIMESTEP(7)[0] |\n",
      " |      U7     | TIMESTEP(7)[0] |      U7     | TIMESTEP(7)[0] |\n",
      "---------------------------------------------------------------|\n"
     ]
    }
   ],
   "source": [
    "sc = timestep_schedule(qc, backend, extra_basis=[\"unitary\"])\n",
    "print(sc.draw(qubits=[0, 1]))"
   ]
  },
  {
   "cell_type": "markdown",
   "metadata": {},
   "source": [
    "### Idle qubits must be filled with delays, right?"
   ]
  },
  {
   "cell_type": "markdown",
   "metadata": {},
   "source": [
    "```\n",
    "      |-------------------------------------------------|\n",
    " q_0: | DELAY(839)[839] | U2(0,pi)[160] | CX(0,1)[1408] |\n",
    " q_1: |         DELAY(999)[999]         | CX(0,1)[1408] |\n",
    "      |-------------------------------------------------|\n",
    "```"
   ]
  },
  {
   "cell_type": "markdown",
   "metadata": {},
   "source": [
    "```\n",
    "      |-------------------------------------------------|\n",
    " q_0: | DELAY(839)[839] | U2(0,pi)[160] | CX(0,1)[1408] |\n",
    " q_1: |         DELAY(999)[999]         | CX(0,1)[1408] |\n",
    " q_2: |                DELAY(2407)[2407]                |\n",
    " q_3: |                DELAY(2407)[2407]                |\n",
    " q_4: |                DELAY(2407)[2407]                |\n",
    " q_5: |                DELAY(2407)[2407]                |\n",
    " ...\n",
    "q_26: |                DELAY(2407)[2407]                |\n",
    "      |-------------------------------------------------|\n",
    " ```"
   ]
  },
  {
   "cell_type": "markdown",
   "metadata": {},
   "source": [
    "##  Issues identified"
   ]
  },
  {
   "cell_type": "markdown",
   "metadata": {},
   "source": [
    "- Should we have an option not to fill idle qubits with delays?\n",
    " -- which should be the default (include idle qubits or not)?\n",
    " -- it should be done before scheduler (not in the scheduler)?\n",
    "- Should we output delay when qasm()? Will delay be included in QASM3? (related to https://github.com/Qiskit/qiskit-terra/issues/4312)\n",
    "- We cannot get length of measure from backend.properties (I struggled [here](https://github.com/itoko/qiskit-sdk-py/blob/1c7bc7f7c8299dab7abc9f0ebb3ef70e496267b3/qiskit/transpiler/passes/scheduling/asap.py#L38))\n",
    "- As Lauren suggested, we need more useful helper function (or class) for getting duration (gate length) of each instruction.\n",
    "- How to distinguish regular circuit and scheduled circuit in the code level: `if self.duration` or `if isinstance(qc, ScheduleCircuit)`"
   ]
  },
  {
   "cell_type": "markdown",
   "metadata": {},
   "source": [
    "##  Questions"
   ]
  },
  {
   "cell_type": "markdown",
   "metadata": {},
   "source": [
    "1. Can you give me any use case where operations of scheduled circuits are required? (When do we really need operations more than `append()`?)"
   ]
  },
  {
   "cell_type": "markdown",
   "metadata": {},
   "source": [
    "## T2 experiment with dynamical decoupling?"
   ]
  },
  {
   "cell_type": "code",
   "execution_count": 23,
   "metadata": {},
   "outputs": [],
   "source": [
    "N = 2"
   ]
  },
  {
   "cell_type": "code",
   "execution_count": 24,
   "metadata": {},
   "outputs": [
    {
     "data": {
      "text/html": [
       "<pre style=\"word-wrap: normal;white-space: pre;background: #fff0;line-height: 1.1;font-family: &quot;Courier New&quot;,Courier,monospace\">     ┌───┐┌───┐┌───┐┌───┐\n",
       "q_0: ┤ X ├┤ Y ├┤ X ├┤ Y ├\n",
       "     └───┘└───┘└───┘└───┘</pre>"
      ],
      "text/plain": [
       "     ┌───┐┌───┐┌───┐┌───┐\n",
       "q_0: ┤ X ├┤ Y ├┤ X ├┤ Y ├\n",
       "     └───┘└───┘└───┘└───┘"
      ]
     },
     "execution_count": 24,
     "metadata": {},
     "output_type": "execute_result"
    }
   ],
   "source": [
    "dd = QuantumCircuit(1, name=\"XYXY\")\n",
    "dd.x(0)\n",
    "dd.y(0)\n",
    "dd.x(0)\n",
    "dd.y(0)\n",
    "dd.draw()"
   ]
  },
  {
   "cell_type": "code",
   "execution_count": 25,
   "metadata": {},
   "outputs": [
    {
     "data": {
      "text/html": [
       "<pre style=\"word-wrap: normal;white-space: pre;background: #fff0;line-height: 1.1;font-family: &quot;Courier New&quot;,Courier,monospace\">     ┌───┐┌────────┐┌───┐┌─┐\n",
       "q_0: ┤ H ├┤ XYXY*2 ├┤ H ├┤M├\n",
       "     └───┘└────────┘└───┘└╥┘\n",
       "c_0: ═════════════════════╩═\n",
       "                            </pre>"
      ],
      "text/plain": [
       "     ┌───┐┌────────┐┌───┐┌─┐\n",
       "q_0: ┤ H ├┤ XYXY*2 ├┤ H ├┤M├\n",
       "     └───┘└────────┘└───┘└╥┘\n",
       "c_0: ═════════════════════╩═\n",
       "                            "
      ]
     },
     "execution_count": 25,
     "metadata": {},
     "output_type": "execute_result"
    }
   ],
   "source": [
    "t2dd = QuantumCircuit(1, 1, name=\"t2_with_dynamical_decoupling\")\n",
    "t2dd.h(0)\n",
    "t2dd.append(dd.to_instruction().repeat(N), qargs=[0])\n",
    "t2dd.h(0)\n",
    "t2dd.measure(0, 0)\n",
    "t2dd.draw()"
   ]
  },
  {
   "cell_type": "code",
   "execution_count": 26,
   "metadata": {
    "scrolled": true
   },
   "outputs": [
    {
     "data": {
      "text/html": [
       "<pre style=\"word-wrap: normal;white-space: pre;background: #fff0;line-height: 1.1;font-family: &quot;Courier New&quot;,Courier,monospace\">     ┌───┐┌─────────────┐┌───┐┌─┐\n",
       "q_0: ┤ H ├┤ DELAY(2560) ├┤ H ├┤M├\n",
       "     └───┘└─────────────┘└───┘└╥┘\n",
       "c_0: ══════════════════════════╩═\n",
       "                                 </pre>"
      ],
      "text/plain": [
       "     ┌───┐┌─────────────┐┌───┐┌─┐\n",
       "q_0: ┤ H ├┤ DELAY(2560) ├┤ H ├┤M├\n",
       "     └───┘└─────────────┘└───┘└╥┘\n",
       "c_0: ══════════════════════════╩═\n",
       "                                 "
      ]
     },
     "execution_count": 26,
     "metadata": {},
     "output_type": "execute_result"
    }
   ],
   "source": [
    "t2 = QuantumCircuit(1, 1, name=\"t2_with_delay\")\n",
    "t2.h(0)\n",
    "t2.delay(N * dd.schedule(backend).duration)\n",
    "t2.h(0)\n",
    "t2.measure(0, 0)\n",
    "t2.draw()"
   ]
  },
  {
   "cell_type": "code",
   "execution_count": 27,
   "metadata": {
    "scrolled": false
   },
   "outputs": [
    {
     "data": {
      "text/plain": [
       "     |--------------------------------------------------------------------------\n",
       "q_0: | U2(0,pi)[160] | U3(pi,0,pi)[320] | U3(pi,pi/2,pi/2)[320] | U3(pi,0,pi)[32\n",
       "     |--------------------------------------------------------------------------\n",
       "--------------------------------------------------------------------------------\n",
       "0] | U3(pi,pi/2,pi/2)[320] | U3(pi,0,pi)[320] | U3(pi,pi/2,pi/2)[320] | U3(pi,0,\n",
       "--------------------------------------------------------------------------------\n",
       "------------------------------------------------------------------|\n",
       "pi)[320] | U3(pi,pi/2,pi/2)[320] | U2(0,pi)[160] | MEASURE[19200] |\n",
       "------------------------------------------------------------------|"
      ]
     },
     "execution_count": 27,
     "metadata": {},
     "output_type": "execute_result"
    }
   ],
   "source": [
    "t2dd.schedule(backend).draw(qubits=[0])"
   ]
  },
  {
   "cell_type": "code",
   "execution_count": 28,
   "metadata": {
    "scrolled": true
   },
   "outputs": [
    {
     "data": {
      "text/plain": [
       "     |--------------------------------------------------------------------|\n",
       "q_0: | U2(0,pi)[160] | DELAY(2560)[2560] | U2(0,pi)[160] | MEASURE[19200] |\n",
       "     |--------------------------------------------------------------------|"
      ]
     },
     "execution_count": 28,
     "metadata": {},
     "output_type": "execute_result"
    }
   ],
   "source": [
    "t2.schedule(backend).draw(qubits=[0])"
   ]
  },
  {
   "cell_type": "markdown",
   "metadata": {},
   "source": [
    "##  Tests"
   ]
  },
  {
   "cell_type": "code",
   "execution_count": 29,
   "metadata": {
    "scrolled": true
   },
   "outputs": [
    {
     "data": {
      "text/plain": [
       "     |-----------------------------------------------------|\n",
       "q_0: |  U2(0,pi)[160]  | CX(0,1)[1408] | DELAY(1632)[1632] |\n",
       "q_1: | DELAY(160)[160] | CX(0,1)[1408] |   CX(1,2)[1632]   |\n",
       "q_2: |        DELAY(1568)[1568]        |   CX(1,2)[1632]   |\n",
       "     |-----------------------------------------------------|"
      ]
     },
     "execution_count": 29,
     "metadata": {},
     "output_type": "execute_result"
    }
   ],
   "source": [
    "ghz3 = QuantumCircuit(3, name=\"ghz3\")\n",
    "ghz3.h(0)\n",
    "ghz3.cx(0,1)\n",
    "ghz3.cx(1,2)\n",
    "ghz3.schedule(backend).draw(qubits=[0,1,2])"
   ]
  },
  {
   "cell_type": "code",
   "execution_count": 30,
   "metadata": {},
   "outputs": [
    {
     "data": {
      "text/plain": [
       "     |-----------------------------------------------------|\n",
       "q_0: |  U2(0,pi)[160]  | BARRIER(0,1)[0] | DELAY(160)[160] |\n",
       "q_1: | DELAY(160)[160] | BARRIER(0,1)[0] |  U2(0,pi)[160]  |\n",
       "     |-----------------------------------------------------|"
      ]
     },
     "execution_count": 30,
     "metadata": {},
     "output_type": "execute_result"
    }
   ],
   "source": [
    "qc = QuantumCircuit(2, name=\"test_barrier\")\n",
    "qc.h(0)\n",
    "qc.barrier()\n",
    "qc.h(1)\n",
    "qc.draw()\n",
    "qc.schedule(backend).draw(qubits=[0,1])"
   ]
  },
  {
   "cell_type": "code",
   "execution_count": null,
   "metadata": {},
   "outputs": [],
   "source": []
  }
 ],
 "metadata": {
  "kernelspec": {
   "display_name": "Python 3",
   "language": "python",
   "name": "python3"
  },
  "language_info": {
   "codemirror_mode": {
    "name": "ipython",
    "version": 3
   },
   "file_extension": ".py",
   "mimetype": "text/x-python",
   "name": "python",
   "nbconvert_exporter": "python",
   "pygments_lexer": "ipython3",
   "version": "3.7.3"
  }
 },
 "nbformat": 4,
 "nbformat_minor": 2
}
